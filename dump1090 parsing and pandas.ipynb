{
 "cells": [
  {
   "cell_type": "code",
   "execution_count": 18,
   "id": "b4c17218",
   "metadata": {},
   "outputs": [],
   "source": [
    "import os\n",
    "import time\n",
    "import select\n",
    "import subprocess\n",
    "import pandas as pd\n",
    "\n",
    "# check if csv file is present\n",
    "\n",
    "if os.path.exists('/home/gnuradio/dump1090_sdrplus-master/aircraft_log.csv'):\n",
    "    pass\n",
    "else:\n",
    "    print('not there')\n",
    "\n",
    "### Initializing Lists ###\n",
    "\n",
    "airplane_list = []\n",
    "\n",
    "source = []\n",
    "\n"
   ]
  },
  {
   "cell_type": "code",
   "execution_count": 19,
   "id": "d68e6165",
   "metadata": {},
   "outputs": [
    {
     "name": "stdout",
     "output_type": "stream",
     "text": [
      "[{'Hex': 'a45586', 'Flight': 'DAL1530', 'Altitude': '7125', 'Speed': '259', 'Lat': '0.000000', 'Lon': '0.000000', 'Track': '85', 'Messages': '52', 'Seen': '1677185367'}]\n"
     ]
    }
   ],
   "source": [
    "### MAIN LOOP ###\n",
    "\n",
    "## we use a list of dicts to store all plane information ##\n",
    "\n",
    "## Checks the end of csv file ##            \n",
    "## (last line provides most up-to-date info about an aircraft) ##\n",
    "\n",
    "with open(\"/home/gnuradio/dump1090_sdrplus-master/aircraft_log.csv\") as file:\n",
    "    for last_line in file:\n",
    "        pass\n",
    "    slice_list = (list(map(str.strip, last_line.split(\",\"))))\n",
    "\n",
    "## replace old info with new info ##\n",
    "for i in airplane_list:\n",
    "    if i['Hex'] == slice_list['Hex']:\n",
    "        airplane_list.remove(i)\n",
    "\n",
    "airplane_list.append(({'Hex': slice_list[0],\n",
    "                        'Flight': slice_list[1],\n",
    "                        'Altitude': slice_list[2],\n",
    "                        'Speed': slice_list[3],\n",
    "                        'Lat': slice_list[4],\n",
    "                        'Lon': slice_list[5],\n",
    "                        'Track': slice_list[6],\n",
    "                        'Messages': slice_list[7],\n",
    "                        'Seen': slice_list[8]}))\n",
    "print(airplane_list)\n",
    "\n",
    "\n",
    "## Uses the entire csv file ##\n",
    "\n",
    "# source = []\n",
    "# slice_dict = {'Hex': [],'Flight': [],'Altitude': [],'Speed': [],'Lat': [],'Lon': [],'Track': [],'Messages': [],'Seen': []}\n",
    "\n",
    "# with open(\"/home/gnuradio/dump1090_sdrplus-master/aircraft_log.csv\") as file:\n",
    "#     f = file.readlines()\n",
    "#     for i in f[1:]:\n",
    "#         slice_list = list(map(str.strip, i.split(\",\")))\n",
    "#         source.append({'Hex': slice_list[0],\n",
    "#                        'Flight': slice_list[1],\n",
    "#                        'Altitude': slice_list[2],\n",
    "#                        'Speed': slice_list[3],\n",
    "#                        'Lat': slice_list[4],\n",
    "#                        'Lon': slice_list[5],\n",
    "#                        'Track': slice_list[6],\n",
    "#                        'Messages': slice_list[7],\n",
    "#                        'Seen': slice_list[8]})\n",
    "    \n"
   ]
  },
  {
   "cell_type": "code",
   "execution_count": 20,
   "id": "bbe8eb6e",
   "metadata": {},
   "outputs": [],
   "source": [
    "## IMPORTING LIBRARY\n",
    "import requests\n",
    "import json\n",
    "import pandas as pd\n",
    "\n",
    "## IMPORTING PLOTTING LIBRARIES\n",
    "from bokeh.plotting import figure, show\n",
    "from bokeh.tile_providers import get_provider,STAMEN_TERRAIN\n",
    "from bokeh.models import HoverTool,LabelSet,ColumnDataSource\n",
    "import numpy as np\n",
    "\n",
    "## AREA EXTENT COORDINATE WGS4 (SET THIS TO WEST LA)\n",
    "lon_min,lat_min= -119,33.0\n",
    "lon_max,lat_max= -118.0,34.4\n",
    "\n"
   ]
  },
  {
   "cell_type": "code",
   "execution_count": 21,
   "id": "609c23dc",
   "metadata": {},
   "outputs": [],
   "source": [
    "## FUNCTION TO CONVERT GCS WGS84 TO WEB MERCATOR POINT\n",
    "\n",
    "def wgs84_web_mercator_point(lon,lat):\n",
    "    k = 6378137\n",
    "    x= lon * (k * np.pi/180.0)\n",
    "    y= np.log(np.tan((90 + lat) * np.pi/360.0)) * k\n",
    "    return x,y\n",
    "\n",
    "#DATA FRAME\n",
    "def wgs84_to_web_mercator(df, lon=\"Lon\", lat=\"Lat\"):\n",
    "    k = 6378137\n",
    "    df[\"x\"] = int(float(df[lon])) * (k * np.pi/180.0)\n",
    "    df[\"y\"] = np.log(np.tan((90 + int(float(df[lat]))) * np.pi/360.0)) * k\n",
    "    return df"
   ]
  },
  {
   "cell_type": "code",
   "execution_count": 22,
   "id": "2ee0b791",
   "metadata": {},
   "outputs": [
    {
     "name": "stdout",
     "output_type": "stream",
     "text": [
      "      Hex   Flight Altitude Speed       Lat       Lon Track Messages  \\\n",
      "0  a45586  DAL1530     7125   259  0.000000  0.000000    85       52   \n",
      "\n",
      "         Seen    x             y  \n",
      "0  1677185367  0.0 -7.081155e-10  \n"
     ]
    }
   ],
   "source": [
    "## CREATE EMPTY PANDAS DATAFRAME W/ COLUMNS ##\n",
    "col_name = ['Hex','Flight','Altitude','Speed','Lat','Lon','Track','Messages','Seen']\n",
    "flight_df = pd.DataFrame(columns = col_name )\n",
    "\n",
    "\n",
    "## COORDINATE CONVERSION\n",
    "\n",
    "xy_min=wgs84_web_mercator_point(lon_min,lat_min)\n",
    "xy_max=wgs84_web_mercator_point(lon_max,lat_max)\n",
    "\n",
    "flights = []\n",
    "\n",
    "for i in airplane_list:\n",
    "    \n",
    "    wgs84_to_web_mercator(i)\n",
    "\n",
    "## populate pandas df ##\n",
    "flight_df = pd.DataFrame(airplane_list)\n",
    "flight_df=flight_df.fillna('No Data') #replace NAN with No Data\n",
    "print(flight_df)\n",
    "\n",
    "\n",
    "#flight_df['rot_angle']=flight_df['true_track']*-1 #Rotation angle\n",
    "icon_url='https://img1.pnghut.com/4/14/18/52nsQBCssu/paper-monochrome-cursor-logo-triangle.jpg' #Icon url\n",
    "flight_df['url']=icon_url"
   ]
  },
  {
   "cell_type": "code",
   "execution_count": 23,
   "id": "aa482048",
   "metadata": {},
   "outputs": [],
   "source": [
    "def modify_doc(doc):\n",
    "    ## FIGURE SETTING\n",
    "    x_range,y_range=([xy_min[0],xy_max[0]], [xy_min[1],xy_max[1]])\n",
    "    p=figure(x_range=x_range,y_range=y_range,x_axis_type='mercator',y_axis_type='mercator',sizing_mode='scale_width',height=300)\n",
    "\n",
    "    ## PLOT BASEMAP AND AIRPLANE POINTS\n",
    "    flight_source=ColumnDataSource(flight_df)\n",
    "    tile_prov=get_provider('CARTODBPOSITRON')\n",
    "    p.add_tile(tile_prov,level='image')\n",
    "    p.image_url(url='url', x='x', y='y',source=flight_source,anchor='center',angle_units='deg',h_units='screen',w_units='screen',w=40,h=40)\n",
    "    p.circle('x','y',source=flight_source,fill_color='red',hover_color='yellow',size=10,fill_alpha=0.8,line_width=0)\n",
    "\n",
    "    ## HOVER INFORMATION AND LABEL\n",
    "    my_hover=HoverTool()\n",
    "    my_hover.tooltips=[('ICAO','@Hex'),('Speed(m/s)','@Speed'),('Altitude(m)','@Altitude')]\n",
    "    labels = LabelSet(x='x', y='y', text='callsign', level='glyph',\n",
    "                x_offset=5, y_offset=5, source=flight_source,background_fill_color='white',text_font_size=\"8pt\")\n",
    "    p.add_tools(my_hover)\n",
    "    p.add_layout(labels)\n",
    "\n",
    "    doc.add_root(p)\n",
    "    \n",
    "\n",
    "\n",
    "\n",
    "\n"
   ]
  },
  {
   "cell_type": "code",
   "execution_count": 24,
   "id": "2b724828",
   "metadata": {},
   "outputs": [
    {
     "name": "stdout",
     "output_type": "stream",
     "text": [
      "5.252490043640137\n"
     ]
    }
   ],
   "source": [
    "start = time.time()\n",
    "show(p)\n",
    "print(time.time() - start)"
   ]
  }
 ],
 "metadata": {
  "kernelspec": {
   "display_name": "Python 3",
   "language": "python",
   "name": "python3"
  },
  "language_info": {
   "codemirror_mode": {
    "name": "ipython",
    "version": 3
   },
   "file_extension": ".py",
   "mimetype": "text/x-python",
   "name": "python",
   "nbconvert_exporter": "python",
   "pygments_lexer": "ipython3",
   "version": "3.8.10"
  },
  "vscode": {
   "interpreter": {
    "hash": "916dbcbb3f70747c44a77c7bcd40155683ae19c65e1c03b4aa3499c5328201f1"
   }
  }
 },
 "nbformat": 4,
 "nbformat_minor": 5
}
