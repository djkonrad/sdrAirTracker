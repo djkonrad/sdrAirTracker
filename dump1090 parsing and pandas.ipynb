{
 "cells": [
  {
   "cell_type": "code",
   "execution_count": 24,
   "id": "b4c17218",
   "metadata": {},
   "outputs": [
    {
     "name": "stdout",
     "output_type": "stream",
     "text": [
      "Number of lines present:- 591\n"
     ]
    }
   ],
   "source": [
    "import os\n",
    "import time\n",
    "import select\n",
    "import subprocess\n",
    "import pandas as pd\n",
    "  \n",
    "# read CSV file\n",
    "results = pd.read_csv('/home/gnuradio/dump1090_sdrplus-master/aircraft_log.csv')\n",
    "  \n",
    "# count no. of lines\n",
    "num_lines = len(results)\n",
    "print(\"Number of lines present:-\", num_lines)\n",
    "        \n",
    "\n",
    "#### Implementing Airplane Class #####\n",
    "\n",
    "class AirPlane:\n",
    "  def __init__(self, flightnum = \"null\", alt = 0, lat = 0, lon = 0, speed = 0):\n",
    "    self.flight = flightnum\n",
    "    self.altitude = alt\n",
    "    self.latitude = lat\n",
    "    self.longitude = lon\n",
    "    self.speed = speed\n",
    "\n",
    "\n",
    "# with open('/home/gnuradio/dump1090_sdrplus-master/fileLog7.txt', 'r') as f:\n",
    "#         lines = f.readlines()\n",
    "#         for lines in f:\n",
    "\n"
   ]
  },
  {
   "cell_type": "code",
   "execution_count": 28,
   "id": "bbe8eb6e",
   "metadata": {},
   "outputs": [
    {
     "name": "stdout",
     "output_type": "stream",
     "text": [
      "b'aa8114,UAL1231 ,7325,248,34.016139,-118.518848,96,137,1676606415\\n'\n"
     ]
    },
    {
     "ename": "KeyboardInterrupt",
     "evalue": "",
     "output_type": "error",
     "traceback": [
      "\u001b[0;31m---------------------------------------------------------------------------\u001b[0m",
      "\u001b[0;31mKeyboardInterrupt\u001b[0m                         Traceback (most recent call last)",
      "Cell \u001b[0;32mIn[28], line 16\u001b[0m\n\u001b[1;32m     14\u001b[0m     \u001b[38;5;28;01mif\u001b[39;00m p\u001b[38;5;241m.\u001b[39mpoll(\u001b[38;5;241m1\u001b[39m):\n\u001b[1;32m     15\u001b[0m         \u001b[38;5;28mprint\u001b[39m (f\u001b[38;5;241m.\u001b[39mstdout\u001b[38;5;241m.\u001b[39mreadline())\n\u001b[0;32m---> 16\u001b[0m     \u001b[43mtime\u001b[49m\u001b[38;5;241;43m.\u001b[39;49m\u001b[43msleep\u001b[49m\u001b[43m(\u001b[49m\u001b[38;5;241;43m1\u001b[39;49m\u001b[43m)\u001b[49m\n\u001b[1;32m     19\u001b[0m \u001b[38;5;28mprint\u001b[39m(dump1090)\n\u001b[1;32m     20\u001b[0m \u001b[38;5;66;03m# with tempfile.TemporaryFile() as tempf:\u001b[39;00m\n\u001b[1;32m     21\u001b[0m \u001b[38;5;66;03m#     proc = subprocess.Popen([\"/home/gnuradio/dump1090_sdrplus-master/dump1090\" , \"--interactive\"], stdout=tempf)\u001b[39;00m\n\u001b[1;32m     22\u001b[0m \u001b[38;5;66;03m#     proc.wait()\u001b[39;00m\n\u001b[1;32m     23\u001b[0m \u001b[38;5;66;03m#     tempf.seek(0)\u001b[39;00m\n\u001b[1;32m     24\u001b[0m \u001b[38;5;66;03m# print(tempf.read())\u001b[39;00m\n",
      "\u001b[0;31mKeyboardInterrupt\u001b[0m: "
     ]
    }
   ],
   "source": [
    "if os.path.exists('/home/gnuradio/dump1090_sdrplus-master/aircraft_log.csv'):\n",
    "    pass\n",
    "else:\n",
    "    print('not there')\n",
    "\n",
    "fg.add_child(folium.Marker(location=[-118.417819, 56,202], icon=plugins.BeautifyIcon(icon='plane',border_color='transparent',background_color='transparent',border_width=1,text_color='#003EFF', inner_icon_style='margin:0px;font-size:2em;-webkit-transform: rotate(angle);-moz-transform: rotate(angle);-ms-transform: rotate(angle);-o-transform: rotate(angle);transform: rotate(angle);')))\n",
    "\n",
    "\n",
    "    \n",
    "\n",
    "\n",
    "\n"
   ]
  },
  {
   "cell_type": "code",
   "execution_count": null,
   "id": "609c23dc",
   "metadata": {},
   "outputs": [],
   "source": []
  }
 ],
 "metadata": {
  "kernelspec": {
   "display_name": "Python 3 (ipykernel)",
   "language": "python",
   "name": "python3"
  },
  "language_info": {
   "codemirror_mode": {
    "name": "ipython",
    "version": 3
   },
   "file_extension": ".py",
   "mimetype": "text/x-python",
   "name": "python",
   "nbconvert_exporter": "python",
   "pygments_lexer": "ipython3",
   "version": "3.8.10"
  }
 },
 "nbformat": 4,
 "nbformat_minor": 5
}
