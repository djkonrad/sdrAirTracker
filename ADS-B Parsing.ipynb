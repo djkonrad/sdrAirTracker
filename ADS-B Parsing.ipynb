{
 "cells": [
  {
   "cell_type": "code",
   "execution_count": 43,
   "metadata": {},
   "outputs": [],
   "source": [
    "import os"
   ]
  },
  {
   "cell_type": "code",
   "execution_count": 44,
   "metadata": {},
   "outputs": [],
   "source": [
    "if os.path.exists('/home/gnuradio/dump1090_sdrplus-master/fileLog7.txt'):\n",
    "    with open('/home/gnuradio/dump1090_sdrplus-master/fileLog7.txt', 'r') as f:\n",
    "        lines = f.readlines()\n",
    "else:\n",
    "    print('not there')\n",
    "        "
   ]
  },
  {
   "cell_type": "code",
   "execution_count": 42,
   "metadata": {},
   "outputs": [],
   "source": [
    "#### Implementing Airplane Class #####\n",
    "\n",
    "class AirPlane:\n",
    "  def __init__(self, id_num, lat = 0, lon = 0):\n",
    "    self.ICAO = id_num\n",
    "    self.latitude = lat\n",
    "    self.longitude = lon\n",
    "    self.squitter_type = 'null'\n",
    "    self.squitter_sub = 'null'\n",
    "    self.squitter_name = 'null'\n",
    "    self.ew_direction = 'null'"
   ]
  },
  {
   "cell_type": "code",
   "execution_count": 24,
   "metadata": {},
   "outputs": [
    {
     "name": "stdout",
     "output_type": "stream",
     "text": [
      "DF 11: All Call Reply.\n",
      "\n"
     ]
    }
   ],
   "source": [
    "#### PARSING Direction Finder (DF) PARSING #####\n",
    "\n",
    "i = 0\n",
    "while (lines[i][0] != '*'):\n",
    "    i += 1\n",
    "df_num = lines[i+2]\n",
    "print(df_num)\n",
    "\n"
   ]
  },
  {
   "cell_type": "code",
   "execution_count": 35,
   "metadata": {},
   "outputs": [],
   "source": [
    "#### PARSING Capability, ICAO, Squitter, Directions PARSING #####\n",
    "Capability = 'null'\n",
    "ICAO = 'null'\n",
    "Extended_Squitter_Type = 'null'\n",
    "Extended_Squitter_Sub = 'null'\n",
    "Extended_Squitter_Name = 'null'\n",
    "EW_Direction = 'null'\n",
    "\n",
    "if df_num == 'DF 11':\n",
    "    Capability = lines[i+3]\n",
    "    ICAO = lines[i+4]\n",
    "    \n",
    "if df_num == 'DF 17':\n",
    "    Capability = lines[i+3]\n",
    "    ICAO = lines[i+4]\n",
    "    Extended_Squitter_Type = lines[i+5]\n",
    "    Extended_Squitter_Sub = lines[i+6]\n",
    "    Extended_Squitter_Name = lines[i+7]\n",
    "    print(Extended_Squitter_Type)\n",
    "    \n",
    "    while (lines[i] != '\\n'):\n",
    "        if (lines[i][0:15] == '    EW Direction'):\n",
    "        EW_Direction = lines[i]\n",
    "        i += 1\n",
    "    \n",
    "    \n",
    "\n",
    "airplane1 = AirPlane(ICAO)\n",
    "\n",
    "\n",
    "    \n",
    "    "
   ]
  },
  {
   "cell_type": "code",
   "execution_count": 16,
   "metadata": {},
   "outputs": [
    {
     "name": "stdout",
     "output_type": "stream",
     "text": [
      "  Capability  : Level 2+3+4 (DF0,4,5,11,20,21,24,code7)\n",
      "\n",
      "7\n"
     ]
    }
   ],
   "source": [
    "## PARSING NEXT ADS-B MESSAGE ##\n",
    "\n",
    "while (lines[i][0] != '*'):\n",
    "    i += 1\n",
    "df_num = lines[i+2]\n",
    "print(df_num)"
   ]
  },
  {
   "cell_type": "code",
   "execution_count": null,
   "metadata": {},
   "outputs": [],
   "source": []
  }
 ],
 "metadata": {
  "kernelspec": {
   "display_name": "Python 3 (ipykernel)",
   "language": "python",
   "name": "python3"
  },
  "language_info": {
   "codemirror_mode": {
    "name": "ipython",
    "version": 3
   },
   "file_extension": ".py",
   "mimetype": "text/x-python",
   "name": "python",
   "nbconvert_exporter": "python",
   "pygments_lexer": "ipython3",
   "version": "3.8.10"
  }
 },
 "nbformat": 4,
 "nbformat_minor": 2
}
