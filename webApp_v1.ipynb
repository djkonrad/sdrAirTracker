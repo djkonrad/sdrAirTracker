{
 "cells": [
  {
   "cell_type": "code",
   "execution_count": 11,
   "id": "83b5014a",
   "metadata": {},
   "outputs": [],
   "source": [
    "# Import the required packages\n",
    "import pandas as pd\n",
    "from functools import lru_cache\n",
    "from bokeh.io import curdoc\n",
    "from bokeh.layouts import column, row\n",
    "from bokeh.models import ColumnDataSource, PreText, Select, Div\n",
    "from bokeh.plotting import figure\n",
    "\n",
    "# load the list of tickers\n",
    "import yfinance as tickers\n",
    "tickers = tickers.tickers\n",
    "\n",
    "import helper_funcs"
   ]
  },
  {
   "cell_type": "code",
   "execution_count": 5,
   "id": "ae0b4f7b",
   "metadata": {},
   "outputs": [],
   "source": []
  },
  {
   "cell_type": "code",
   "execution_count": 9,
   "id": "62cdff54",
   "metadata": {},
   "outputs": [],
   "source": [
    "# set up plots\n",
    "tools = 'pan,wheel_zoom,xbox_select,reset'\n",
    "\n",
    "corr = figure(width=400, height=350,\n",
    "              tools='pan,wheel_zoom,box_select,reset', output_backend='webgl')\n",
    "corr.diamond('t1_returns', 't2_returns', size=2, source=source, color=\"red\",\n",
    "            selection_color=\"orange\", alpha=0.6, nonselection_alpha=0.1, selection_alpha=0.4)\n",
    "\n",
    "\n",
    "time_series1 = figure(width=900, height=200, tools=tools,\n",
    "                      x_axis_type='datetime', active_drag=\"xbox_select\", output_backend='webgl')\n",
    "time_series1.line('date', 't1', source=source, color='orange')\n",
    "time_series2 = figure(width=900, height=200, tools=tools,\n",
    "                      x_axis_type='datetime', active_drag=\"xbox_select\", output_backend='webgl')\n",
    "time_series2.x_range = time_series1.x_range\n",
    "time_series2.line('date', 't2', source=source, color='green')"
   ]
  },
  {
   "cell_type": "code",
   "execution_count": 10,
   "id": "5c10ece3",
   "metadata": {},
   "outputs": [],
   "source": [
    "# set up layout\n",
    "# Add a title message to the app\n",
    "div = Div(\n",
    "    text=\"\"\"\n",
    "        <p>Select two Stocks to compare key Statistics:</p>\n",
    "        \"\"\",\n",
    "width=900,\n",
    "height=30,\n",
    ")\n",
    "# Create layouts\n",
    "app_title = div\n",
    "widgets = column(ticker1, ticker2, stats)\n",
    "main_row = row(widgets, corr)\n",
    "series = column(time_series1, time_series2)\n",
    "layout = column(app_title, main_row, series)"
   ]
  },
  {
   "cell_type": "code",
   "execution_count": null,
   "id": "c16b3035",
   "metadata": {},
   "outputs": [],
   "source": [
    "# initialize the app\n",
    "update()\n",
    "curdoc().add_root(layout)\n",
    "curdoc().title = \"Compare Stocks\"\n",
    "\n"
   ]
  }
 ],
 "metadata": {
  "kernelspec": {
   "display_name": "Python 3",
   "language": "python",
   "name": "python3"
  },
  "language_info": {
   "codemirror_mode": {
    "name": "ipython",
    "version": 3
   },
   "file_extension": ".py",
   "mimetype": "text/x-python",
   "name": "python",
   "nbconvert_exporter": "python",
   "pygments_lexer": "ipython3",
   "version": "3.8.10"
  },
  "vscode": {
   "interpreter": {
    "hash": "916dbcbb3f70747c44a77c7bcd40155683ae19c65e1c03b4aa3499c5328201f1"
   }
  }
 },
 "nbformat": 4,
 "nbformat_minor": 5
}
